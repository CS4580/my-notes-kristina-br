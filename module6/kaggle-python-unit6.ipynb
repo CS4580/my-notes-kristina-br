{
 "cells": [
  {
   "cell_type": "code",
   "execution_count": 13,
   "metadata": {},
   "outputs": [
    {
     "ename": "AttributeError",
     "evalue": "'list' object has no attribute 'split'",
     "output_type": "error",
     "traceback": [
      "\u001b[1;31m---------------------------------------------------------------------------\u001b[0m",
      "\u001b[1;31mAttributeError\u001b[0m                            Traceback (most recent call last)",
      "Cell \u001b[1;32mIn[13], line 37\u001b[0m\n\u001b[0;32m     33\u001b[0m     \u001b[38;5;28;01mreturn\u001b[39;00m listWords\n\u001b[0;32m     36\u001b[0m doc_list \u001b[38;5;241m=\u001b[39m [\u001b[38;5;124m\"\u001b[39m\u001b[38;5;124mThe Learn Python Challenge Casino.\u001b[39m\u001b[38;5;124m\"\u001b[39m, \u001b[38;5;124m\"\u001b[39m\u001b[38;5;124mThey bought a car\u001b[39m\u001b[38;5;124m\"\u001b[39m, \u001b[38;5;124m\"\u001b[39m\u001b[38;5;124mCasinoville\u001b[39m\u001b[38;5;124m\"\u001b[39m]\n\u001b[1;32m---> 37\u001b[0m \u001b[38;5;28mprint\u001b[39m(word_search(doc_list, \u001b[38;5;124m'\u001b[39m\u001b[38;5;124mcasino\u001b[39m\u001b[38;5;124m'\u001b[39m))\n",
      "Cell \u001b[1;32mIn[13], line 20\u001b[0m, in \u001b[0;36mword_search\u001b[1;34m(doc_list, keyword)\u001b[0m\n\u001b[0;32m     18\u001b[0m \u001b[38;5;28;01mfor\u001b[39;00m x \u001b[38;5;129;01min\u001b[39;00m doc_list:\n\u001b[0;32m     19\u001b[0m     itemsList \u001b[38;5;241m=\u001b[39m x\u001b[38;5;241m.\u001b[39msplit(\u001b[38;5;124m'\u001b[39m\u001b[38;5;124m.\u001b[39m\u001b[38;5;124m'\u001b[39m)\n\u001b[1;32m---> 20\u001b[0m     itemsList \u001b[38;5;241m=\u001b[39m itemsList\u001b[38;5;241m.\u001b[39msplit(\u001b[38;5;124m'\u001b[39m\u001b[38;5;124m \u001b[39m\u001b[38;5;124m'\u001b[39m)\n\u001b[0;32m     21\u001b[0m     \u001b[38;5;28;01mfor\u001b[39;00m y \u001b[38;5;129;01min\u001b[39;00m itemsList:\n\u001b[0;32m     22\u001b[0m         \u001b[38;5;28;01mif\u001b[39;00m y\u001b[38;5;241m.\u001b[39mlower() \u001b[38;5;241m==\u001b[39m keyword:\n",
      "\u001b[1;31mAttributeError\u001b[0m: 'list' object has no attribute 'split'"
     ]
    }
   ],
   "source": [
    "def word_search(doc_list, keyword):\n",
    "    \"\"\"\n",
    "    Takes a list of documents (each document is a string) and a keyword. \n",
    "    Returns list of the index values into the original list for all documents \n",
    "    containing the keyword.\n",
    "\n",
    "    Example:\n",
    "    doc_list = [\"The Learn Python Challenge Casino.\", \"They bought a car\", \"Casinoville\"]\n",
    "    >>> word_search(doc_list, 'casino')\n",
    "    >>> [0]\n",
    "    \"\"\"\n",
    "    \n",
    "    check = True\n",
    "    checkCt = 0\n",
    "    \n",
    "    listWords = list()\n",
    "\n",
    "    for x in doc_list:\n",
    "        itemsList, period = x.split('.')\n",
    "        itemsList = itemsList.split(' ')\n",
    "        for y in itemsList:\n",
    "            if y.lower() == keyword:\n",
    "                check = True\n",
    "            else:\n",
    "                check = False\n",
    "        \n",
    "        # if we found casino in the previous word split, add the index\n",
    "        if check == True:\n",
    "            listWords.append(checkCt)\n",
    "            checkCt = checkCt + 1\n",
    "            \n",
    "        \n",
    "    return listWords\n",
    "        \n",
    "\n",
    "doc_list = [\"The Learn Python Challenge Casino.\", \"They bought a car\", \"Casinoville\"]\n",
    "print(word_search(doc_list, 'casino'))\n"
   ]
  },
  {
   "cell_type": "code",
   "execution_count": 21,
   "metadata": {},
   "outputs": [
    {
     "ename": "ValueError",
     "evalue": "substring not found",
     "output_type": "error",
     "traceback": [
      "\u001b[1;31m---------------------------------------------------------------------------\u001b[0m",
      "\u001b[1;31mValueError\u001b[0m                                Traceback (most recent call last)",
      "Cell \u001b[1;32mIn[21], line 42\u001b[0m\n\u001b[0;32m     36\u001b[0m \u001b[38;5;66;03m#print(word_search(doc_list, 'casino'))\u001b[39;00m\n\u001b[0;32m     37\u001b[0m \n\u001b[0;32m     38\u001b[0m \u001b[38;5;66;03m#itemsList, period = \"They bought a car\".split('.')\u001b[39;00m\n\u001b[0;32m     39\u001b[0m \u001b[38;5;66;03m#itemsList = itemsList.split(' ')\u001b[39;00m\n\u001b[0;32m     41\u001b[0m casinoStr \u001b[38;5;241m=\u001b[39m \u001b[38;5;124m\"\u001b[39m\u001b[38;5;124mThe Learn Python Challenge Casino\u001b[39m\u001b[38;5;124m\"\u001b[39m\n\u001b[1;32m---> 42\u001b[0m itemsTest \u001b[38;5;241m=\u001b[39m casinoStr\u001b[38;5;241m.\u001b[39mindex(\u001b[38;5;124m'\u001b[39m\u001b[38;5;124m.\u001b[39m\u001b[38;5;124m'\u001b[39m)\n\u001b[0;32m     43\u001b[0m \u001b[38;5;28mprint\u001b[39m(itemsTest)\n",
      "\u001b[1;31mValueError\u001b[0m: substring not found"
     ]
    }
   ],
   "source": [
    "def word_search(doc_list, keyword):\n",
    "    \"\"\"\n",
    "    Takes a list of documents (each document is a string) and a keyword. \n",
    "    Returns list of the index values into the original list for all documents \n",
    "    containing the keyword.\n",
    "\n",
    "    Example:\n",
    "    doc_list = [\"The Learn Python Challenge Casino.\", \"They bought a car\", \"Casinoville\"]\n",
    "    >>> word_search(doc_list, 'casino')\n",
    "    >>> [0]\n",
    "    \"\"\"\n",
    "    \n",
    "    check = True\n",
    "    checkCt = 0\n",
    "    \n",
    "    listWords = list()\n",
    "\n",
    "    itemsList = doc_list.split(' ')\n",
    "    for y in itemsList:\n",
    "        if y.lower() == keyword:\n",
    "            check = True\n",
    "        else:\n",
    "            check = False\n",
    "    \n",
    "    # if we found casino in the previous word split, add the index\n",
    "    if check == True:\n",
    "        print(checkCt)\n",
    "        listWords.append(checkCt)\n",
    "        checkCt = checkCt + 1\n",
    "            \n",
    "        \n",
    "    return listWords\n",
    "        \n",
    "\n",
    "doc_list = [\"The Learn Python Challenge Casino.\", \"They bought a car\", \"Casinoville\"]\n",
    "#print(word_search(doc_list, 'casino'))\n",
    "\n",
    "#itemsList, period = \"They bought a car\".split('.')\n",
    "#itemsList = itemsList.split(' ')\n",
    "\n",
    "casinoStr = \"The Learn Python Challenge Casino\"\n",
    "itemsTest = casinoStr.index('.')\n",
    "print(itemsTest)\n"
   ]
  },
  {
   "cell_type": "code",
   "execution_count": 48,
   "metadata": {},
   "outputs": [
    {
     "name": "stdout",
     "output_type": "stream",
     "text": [
      "Small DF Sample\n",
      "    ARG  ITA\n",
      "0   5.0  2.0\n",
      "1  12.0  2.0\n",
      "2   9.0  3.0\n",
      "3   9.0  1.0\n",
      "4   8.0  2.0\n",
      "\n",
      "dfDummies: \n",
      "      1.0    2.0    3.0\n",
      "0  False   True  False\n",
      "1  False   True  False\n",
      "2  False  False   True\n",
      "3   True  False  False\n",
      "4  False   True  False\n",
      "<class 'pandas.core.frame.DataFrame'>\n",
      "Small DF Sample\n",
      "    ARG  ITA\n",
      "0   5.0  2.0\n",
      "1  12.0  2.0\n",
      "2   9.0  3.0\n",
      "3   9.0  1.0\n",
      "4   8.0  2.0\n",
      "\n",
      "dfDummies: \n",
      "      1.0    2.0    3.0\n",
      "0  False   True  False\n",
      "1  False   True  False\n",
      "2  False  False   True\n",
      "3   True  False  False\n",
      "4  False   True  False\n"
     ]
    }
   ],
   "source": [
    "import pandas as pd\n",
    "\n",
    "df = pd.read_csv('../data/fifa.csv')\n",
    "df['symbolling'] = df['BRA'] + 1\n",
    "dfSmall = df.head(5)\n",
    "dfSmall = dfSmall[['ARG', 'ITA']]\n",
    "\n",
    "dfDummies = pd.get_dummies(dfSmall['ITA'])\n",
    "dfDummies\n",
    "\n",
    "print(f'Small DF Sample\\n{dfSmall}')\n",
    "\n",
    "print(f'\\ndfDummies: \\n {dfDummies}')\n",
    "\n",
    "print(type(dfDummies.describe()))\n",
    "\n",
    "dfSmall.rename(columns={'ARG':'BRA'})\n",
    "\n",
    "print(f'Small DF Sample\\n{dfSmall}')\n",
    "\n",
    "print(f'\\ndfDummies: \\n {dfDummies}')"
   ]
  }
 ],
 "metadata": {
  "kernelspec": {
   "display_name": "base",
   "language": "python",
   "name": "python3"
  },
  "language_info": {
   "codemirror_mode": {
    "name": "ipython",
    "version": 3
   },
   "file_extension": ".py",
   "mimetype": "text/x-python",
   "name": "python",
   "nbconvert_exporter": "python",
   "pygments_lexer": "ipython3",
   "version": "3.12.4"
  }
 },
 "nbformat": 4,
 "nbformat_minor": 2
}
