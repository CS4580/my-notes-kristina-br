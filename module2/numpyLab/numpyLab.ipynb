{
 "cells": [
  {
   "cell_type": "code",
   "execution_count": 3,
   "metadata": {},
   "outputs": [
    {
     "name": "stdout",
     "output_type": "stream",
     "text": [
      "[ 1  2  3  4  5  6  7  8  9 10]\n"
     ]
    }
   ],
   "source": [
    "import numpy as np\n",
    "\n",
    "# Create and print a numpy array with integers from 1 to 10\n",
    "array = np.arange(1, 11)\n",
    "print(array)"
   ]
  },
  {
   "cell_type": "code",
   "execution_count": 7,
   "metadata": {},
   "outputs": [
    {
     "name": "stdout",
     "output_type": "stream",
     "text": [
      "[ 2  3  4  5  6  7  8  9 10 11]\n",
      "[-1  0  1  2  3  4  5  6  7  8]\n",
      "[ 5 10 15 20 25 30 35 40 45 50]\n",
      "[0.5 1.  1.5 2.  2.5 3.  3.5 4.  4.5 5. ]\n"
     ]
    }
   ],
   "source": [
    "# Perform addition, subtraction, multiplication, and division on the array\n",
    "arrAdd = np.add(array, 1)\n",
    "print(arrAdd)\n",
    "arrSub = np.subtract(array, 2)\n",
    "print(arrSub)\n",
    "arrMult = np.multiply(array, 5)\n",
    "print(arrMult)\n",
    "arrDiv = np.divide(array, 2)\n",
    "print(arrDiv)"
   ]
  },
  {
   "cell_type": "code",
   "execution_count": 8,
   "metadata": {},
   "outputs": [],
   "source": [
    "# Task 3: \n",
    "\n",
    "import time\n",
    "\n",
    "# Create a Python list with integers from 1 to 1 000 000\n",
    "oneMillion = [num for num in range(1, int(1e6)+1)]\n",
    "\n",
    "# Time the execution of addition operation on the list\n",
    "start_time = time.time()\n",
    "list = [i + 10 for i in oneMillion]\n",
    "end_time = time.time()\n",
    "\n",
    "# Print the execution time\n",
    "print('Execution time for list (seconds): ', end_time - start_time)\n",
    "\n",
    "# Create the array\n",
    "array = np.array(oneMillion)\n",
    "\n",
    "# Time the execution of addition operation on the array\n",
    "start_time = time.time()\n",
    "array = array + 10\n",
    "end_time = time.time()\n",
    "\n",
    "# Print the execution time\n",
    "print('Execution time for array (seconds): ', end_time - start_time)"
   ]
  },
  {
   "cell_type": "markdown",
   "metadata": {},
   "source": [
    "### Task 2.1: Creating a Simple ndarray"
   ]
  },
  {
   "cell_type": "code",
   "execution_count": 13,
   "metadata": {},
   "outputs": [
    {
     "name": "stdout",
     "output_type": "stream",
     "text": [
      "[[1 2 3]\n",
      " [2 4 6]]\n"
     ]
    }
   ],
   "source": [
    "# Import numpy\n",
    "import numpy as np\n",
    "\n",
    "# Create an ndarray using np.array\n",
    "ndarray = np.array([[1, 2, 3], [2, 4, 6]], np.int32)\n",
    "\n",
    "# Print the array\n",
    "print(ndarray)"
   ]
  },
  {
   "cell_type": "markdown",
   "metadata": {},
   "source": [
    "### Task 2.2: Exploring ndarray Attributes: shape"
   ]
  },
  {
   "cell_type": "code",
   "execution_count": 14,
   "metadata": {},
   "outputs": [
    {
     "name": "stdout",
     "output_type": "stream",
     "text": [
      "(2, 3)\n"
     ]
    }
   ],
   "source": [
    "# Print the shape of the array\n",
    "print(ndarray.shape)"
   ]
  },
  {
   "cell_type": "markdown",
   "metadata": {},
   "source": [
    "### Task 2.3: Exploring ndarray Attributes: size"
   ]
  },
  {
   "cell_type": "code",
   "execution_count": 15,
   "metadata": {},
   "outputs": [
    {
     "name": "stdout",
     "output_type": "stream",
     "text": [
      "6\n"
     ]
    }
   ],
   "source": [
    "# Print the size of the array\n",
    "print(ndarray.size)"
   ]
  },
  {
   "cell_type": "markdown",
   "metadata": {},
   "source": [
    "### Task 2.4: Exploring ndarray Attributes: ndim"
   ]
  },
  {
   "cell_type": "code",
   "execution_count": 16,
   "metadata": {},
   "outputs": [
    {
     "name": "stdout",
     "output_type": "stream",
     "text": [
      "2\n"
     ]
    }
   ],
   "source": [
    "# Print the number of dimensions of the array\n",
    "print(ndarray.ndim)"
   ]
  },
  {
   "cell_type": "markdown",
   "metadata": {},
   "source": [
    "### Task 2.5: Exploring ndarray Attributes: dtype"
   ]
  },
  {
   "cell_type": "code",
   "execution_count": 17,
   "metadata": {},
   "outputs": [
    {
     "name": "stdout",
     "output_type": "stream",
     "text": [
      "int32\n"
     ]
    }
   ],
   "source": [
    "# Print the data type of the elements in the array\n",
    "print(ndarray.dtype)"
   ]
  },
  {
   "cell_type": "markdown",
   "metadata": {},
   "source": [
    "# Step 3: Creating Ndarrays"
   ]
  },
  {
   "cell_type": "markdown",
   "metadata": {},
   "source": [
    "### Task 3.1: Creating an Empty Ndarray"
   ]
  },
  {
   "cell_type": "code",
   "execution_count": 22,
   "metadata": {},
   "outputs": [
    {
     "name": "stdout",
     "output_type": "stream",
     "text": [
      "[ 2.00746908e-230 -1.77417712e+126]\n"
     ]
    }
   ],
   "source": [
    "# Import numpy\n",
    "import numpy as np\n",
    "\n",
    "# Create an empty ndarray\n",
    "emptyArray = np.empty(2)\n",
    "print(emptyArray)"
   ]
  },
  {
   "cell_type": "markdown",
   "metadata": {},
   "source": [
    "### Task 3.2: Creating a Zeros Ndarray"
   ]
  },
  {
   "cell_type": "code",
   "execution_count": 24,
   "metadata": {},
   "outputs": [
    {
     "name": "stdout",
     "output_type": "stream",
     "text": [
      "[0. 0. 0.]\n"
     ]
    }
   ],
   "source": [
    "# Create a zeros ndarray\n",
    "zeroArray = np.zeros(3)\n",
    "print(zeroArray)"
   ]
  },
  {
   "cell_type": "markdown",
   "metadata": {},
   "source": [
    "### Task 3.3: Creating a Ones Ndarray"
   ]
  },
  {
   "cell_type": "code",
   "execution_count": 25,
   "metadata": {},
   "outputs": [
    {
     "name": "stdout",
     "output_type": "stream",
     "text": [
      "[1. 1. 1.]\n"
     ]
    }
   ],
   "source": [
    "# Create a ones ndarray\n",
    "onesArray = np.ones(3)\n",
    "print(onesArray)"
   ]
  },
  {
   "cell_type": "markdown",
   "metadata": {},
   "source": [
    "### Task 3.4: Creating a Full Ndarray"
   ]
  },
  {
   "cell_type": "code",
   "execution_count": null,
   "metadata": {},
   "outputs": [],
   "source": [
    "# Create a full ndarray\n"
   ]
  }
 ],
 "metadata": {
  "kernelspec": {
   "display_name": "base",
   "language": "python",
   "name": "python3"
  },
  "language_info": {
   "codemirror_mode": {
    "name": "ipython",
    "version": 3
   },
   "file_extension": ".py",
   "mimetype": "text/x-python",
   "name": "python",
   "nbconvert_exporter": "python",
   "pygments_lexer": "ipython3",
   "version": "3.12.4"
  }
 },
 "nbformat": 4,
 "nbformat_minor": 2
}
