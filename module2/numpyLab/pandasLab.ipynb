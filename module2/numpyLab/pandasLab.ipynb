{
 "cells": [
  {
   "cell_type": "markdown",
   "metadata": {},
   "source": [
    "# Step 1: Creating and Manipulating Data Frames"
   ]
  },
  {
   "cell_type": "markdown",
   "metadata": {},
   "source": [
    "### Task 1.1: Creating a DataFrame"
   ]
  },
  {
   "cell_type": "markdown",
   "metadata": {},
   "source": [
    " Here is the code to use for `df1`:\n",
    " ```\n",
    " [\n",
    "    {'name': 'Alice', 'age': None, 'city': 'New York'},\n",
    "    {'name': 'Bob', 'age': 26, 'city': 'Los Angeles'},\n",
    "    {'name': 'Oliver', 'age': None, 'city': 'Salt Lake'}\n",
    "]\n",
    "```\n",
    "Here is the code for `df2`:\n",
    "```\n",
    "[\n",
    "    {'name': 'Charlie', 'age': 35, 'city': 'Chicago'},\n",
    "    {'name': 'Diana', 'age': 82, 'city': 'Miami'}\n",
    "]\n",
    "```"
   ]
  },
  {
   "cell_type": "code",
   "execution_count": null,
   "metadata": {},
   "outputs": [],
   "source": [
    "# Import pandas\n",
    "import pandas as pd\n",
    "\n",
    "# Create two DataFrames\n",
    "#TODO: change numbers\n",
    "df_sales = pd.DataFrame(columns=['Date', 'Amount'])\n",
    "#  Add sample data: 3 rows\n",
    "sales_data = {\n",
    "    'Date': ['10/10/2020 23:59', '5/6/2007 08:09', '10/11/2012 13:14'],\n",
    "    'Amount': ['23.59', '12.22', '9.11']\n",
    "}\n",
    "df_sales = pd.DataFrame(sales_data)\n",
    "\n",
    "\n",
    "\n",
    "# Display DataFrames\n"
   ]
  }
 ],
 "metadata": {
  "kernelspec": {
   "display_name": "base",
   "language": "python",
   "name": "python3"
  },
  "language_info": {
   "codemirror_mode": {
    "name": "ipython",
    "version": 3
   },
   "file_extension": ".py",
   "mimetype": "text/x-python",
   "name": "python",
   "nbconvert_exporter": "python",
   "pygments_lexer": "ipython3",
   "version": "3.12.4"
  }
 },
 "nbformat": 4,
 "nbformat_minor": 2
}
