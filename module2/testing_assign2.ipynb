{
 "cells": [
  {
   "cell_type": "code",
   "execution_count": 17,
   "metadata": {},
   "outputs": [
    {
     "data": {
      "text/plain": [
       "0    9.472222\n",
       "1    9.355556\n",
       "2    9.377778\n",
       "3    8.288889\n",
       "4    8.755556\n",
       "Name: Temperature (C), dtype: float64"
      ]
     },
     "execution_count": 17,
     "metadata": {},
     "output_type": "execute_result"
    }
   ],
   "source": [
    "import pandas as pd\n",
    "import numpy as np\n",
    "\n",
    "def print_top_records(data_frame, column_name, num_records):\n",
    "    #print(data_frame.head(num_records))\n",
    "    #print(\"Printing by LOC\")\n",
    "    #print(data_frame.loc[:, column_name])\n",
    "    pass\n",
    "\n",
    "df = pd.read_csv('../data/weatherHistory.csv')#header=None\n",
    "column_name = 'Temperature (C)'\n",
    "num_records = 5\n",
    "#print_top_records(df, column_name, num_records)\n",
    "#print(df[column_name].head())\n",
    "#df[column_name]\n",
    "df[column_name].head(5)  "
   ]
  },
  {
   "cell_type": "code",
   "execution_count": null,
   "metadata": {},
   "outputs": [],
   "source": [
    "def print_min_max_std_group_by(data_frame, column_name, filter_column, filter_value):\n",
    "    pass\n",
    "    # filter the data frame\n",
    "\n",
    "column_name = 'Temperature (C)'\n",
    "filter_column = 'Summary'"
   ]
  }
 ],
 "metadata": {
  "kernelspec": {
   "display_name": "base",
   "language": "python",
   "name": "python3"
  },
  "language_info": {
   "codemirror_mode": {
    "name": "ipython",
    "version": 3
   },
   "file_extension": ".py",
   "mimetype": "text/x-python",
   "name": "python",
   "nbconvert_exporter": "python",
   "pygments_lexer": "ipython3",
   "version": "3.12.4"
  }
 },
 "nbformat": 4,
 "nbformat_minor": 2
}
