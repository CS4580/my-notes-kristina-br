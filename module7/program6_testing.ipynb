{
 "cells": [
  {
   "cell_type": "code",
   "execution_count": null,
   "metadata": {},
   "outputs": [
    {
     "data": {
      "text/plain": [
       "0                      Toy Story (1995)\n",
       "1                        Jumanji (1995)\n",
       "2               Grumpier Old Men (1995)\n",
       "3              Waiting to Exhale (1995)\n",
       "4    Father of the Bride Part II (1995)\n",
       "Name: title, dtype: object"
      ]
     },
     "execution_count": 9,
     "metadata": {},
     "output_type": "execute_result"
    }
   ],
   "source": [
    "import sys\n",
    "import os\n",
    "import requests\n",
    "import pandas as pd\n",
    "import re\n",
    "\n",
    "data = pd.read_csv('../data/movies_data.csv')\n",
    "\n",
    "#df['year'] = df['title'].apply(\n",
    "#    lambda x: x[-5:-1]).convert_dtypes()\n",
    "#df['title'] = df['title'].apply(lambda x: x[0:-7])\n",
    "\n",
    "#df.head()\n",
    "#df['year']\n",
    "\n",
    "# first, strip extra spaces\n",
    "data['title'] = data['title'].str.rstrip()\n",
    "data['title'] = data['title'].str.lstrip()\n",
    "#print(f'Stripped trailing space: \\n{data.head(2)}')\n",
    "# pull year from title\n",
    "data['year'] = data['title'].apply(\n",
    "    lambda x: x[-5:-1])\n",
    "#print(f'Stripped year from title: \\n {data.head(2)}')\n",
    "# data['year'] = data['year'].astype(int)\n",
    "# print(data.head(2))\n",
    "# data['title'] = data['title'].apply(lambda x: x[0:-7])\n",
    "# print(data.head(2))\n",
    "\n",
    "\n",
    "data['title'].head()"
   ]
  },
  {
   "cell_type": "code",
   "execution_count": null,
   "metadata": {},
   "outputs": [
    {
     "data": {
      "text/plain": [
       "')'"
      ]
     },
     "execution_count": 35,
     "metadata": {},
     "output_type": "execute_result"
    }
   ],
   "source": [
    "testVar = False\n",
    "\n",
    "for i in range(1, len(data), 1):\n",
    "    #data['title'][1][0] # record id 1, char 0\n",
    "    if data['title'][i][0] == ' ' or data['title'][i][-1] == ' ':\n",
    "        print(data['title'])"
   ]
  },
  {
   "cell_type": "code",
   "execution_count": 25,
   "metadata": {},
   "outputs": [
    {
     "name": "stdout",
     "output_type": "stream",
     "text": [
      "A12, \n",
      "A25, \n",
      "A38, \n",
      "A51, \n",
      "A64, \n",
      "A77, \n",
      "A90, \n",
      "A103, \n",
      "A116, \n",
      "A129, \n",
      "A142, \n",
      "A155, \n",
      "A168, \n",
      "A181, \n",
      "A194, \n",
      "A207, \n",
      "A220, \n",
      "A233, \n",
      "A246, \n",
      "A259, \n",
      "A272, \n",
      "A285, \n",
      "A298, \n",
      "A311, \n"
     ]
    }
   ],
   "source": [
    "for n in range(12, 312, 13):\n",
    "    print(f'A{n}, ')"
   ]
  },
  {
   "cell_type": "code",
   "execution_count": 3,
   "metadata": {},
   "outputs": [
    {
     "name": "stdout",
     "output_type": "stream",
     "text": [
      "true\n",
      "44041\n"
     ]
    }
   ],
   "source": [
    "movieMatches = []\n",
    "matchIDs = []\n",
    "\n",
    "if ',' in 'Go west, young, john.':\n",
    "    print(\"true\")\n",
    "else:\n",
    "    print('false')\n",
    "\n",
    "count = 0\n",
    "\n",
    "stringy = 'toy, young, john'\n",
    "stringlist = stringy.split(',')\n",
    "string = 'Toy'\n",
    "for item in string:\n",
    "    for i in range(len(df['title'])):\n",
    "        if item.lower() in df['title'][i].lower():\n",
    "            movieMatches.append(df['title'][i])\n",
    "            matchIDs.append(df['movieId'][i])\n",
    "            #print(df['title'][i])\n",
    "            count += 1\n",
    "\n",
    "# for i in range(len(df['title'])):\n",
    "#     if 'toy' in df['title'][i].lower():\n",
    "#         # movieMatches.append(df['title'][i])\n",
    "#         print(df['title'][i])\n",
    "#         count += 1\n",
    "\n",
    "print(count)\n",
    "#movieMatches\n",
    "\n",
    "df.loc[df['year'] == '2002']\n",
    "\n",
    "# how to recognize it's a year\n",
    "test1 = '2002'\n",
    "test2 = 'Meet The Robinsons'\n",
    "test3 = '2025f'\n",
    "test4 = 'meet'\n",
    "\n",
    "#print(re.search('[0-9][0-9][0-9][0-9]', test2) == None)\n",
    "# a year will have: length 4, all numbers.\n",
    "def checkNum(string):\n",
    "    return len(string) == 4 and re.search('[0-9][0-9][0-9][0-9]', string) is not None\n",
    "\n",
    "checkNum('2')\n",
    "\n",
    "#print(type(re.search('[0-9][0-9][0-9][0-9]', test2))) #if true, returns match object, else class NoneType\n",
    "\n",
    "initial_rec = df['title'].sample(n=10).tolist()\n",
    "\n",
    "base_case_id = df.loc[df['title'] == initial_rec[2-1]]['movieId']"
   ]
  },
  {
   "cell_type": "code",
   "execution_count": 17,
   "metadata": {},
   "outputs": [
    {
     "data": {
      "text/plain": [
       "0        1995\n",
       "1        1995\n",
       "2        1995\n",
       "3        1995\n",
       "4        1995\n",
       "         ... \n",
       "27273    2007\n",
       "27274    2002\n",
       "27275    2014\n",
       "27276    2001\n",
       "27277    2014\n",
       "Name: year, Length: 27278, dtype: object"
      ]
     },
     "execution_count": 17,
     "metadata": {},
     "output_type": "execute_result"
    }
   ],
   "source": [
    "initial_rec = df['title'].sample(n=10).tolist()\n",
    "\n",
    "base_case_year = df.loc[df['title'] == initial_rec[2-1]]['year'].iloc[0]\n",
    "#base_case_year\n",
    "\n",
    "recommendations = df.loc[df['year'] == base_case_year]\n",
    "\n",
    "df['year']"
   ]
  }
 ],
 "metadata": {
  "kernelspec": {
   "display_name": "base",
   "language": "python",
   "name": "python3"
  },
  "language_info": {
   "codemirror_mode": {
    "name": "ipython",
    "version": 3
   },
   "file_extension": ".py",
   "mimetype": "text/x-python",
   "name": "python",
   "nbconvert_exporter": "python",
   "pygments_lexer": "ipython3",
   "version": "3.12.4"
  }
 },
 "nbformat": 4,
 "nbformat_minor": 2
}
