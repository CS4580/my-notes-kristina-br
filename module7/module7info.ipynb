{
 "cells": [
  {
   "cell_type": "markdown",
   "metadata": {},
   "source": [
    "# Module 7 Notes: Metrics and Model Development\n",
    "\n",
    "## Metrics\n",
    "\n",
    "Metrics should be unbiased, universal, and concise.\n",
    "\n",
    "    1. A way to obtain similar responses\n",
    "    2. A way to measure the performance\n",
    "    3. A way to measure prediction\n",
    "\n",
    "For our sample analysis we will use `KNN` K-Nearest Neighbor\n",
    "    - K is an arbitrary pick\n",
    "    - Need a \"base case\"\n",
    "    - Compare the neighbors\n",
    "    - Sort the results\n",
    "\n",
    "Data set for this analysis:\n",
    "```bash\n",
    "icarus.cs.weber.edu:~hvalle/cs4580/data/movies.csv\n",
    "```\n",
    "\n",
    "### KNN-Euclidean Distance\n",
    "\n",
    "The Euclidean distance is the distance between points \n",
    "in `N-dimensional` space.\n",
    "\n",
    "Formula\n",
    "\n",
    "$\n",
    "d(p, q) = \\sqrt{\\sum_{i=1}^n (q_i = p_i)^2}\n",
    "$\n",
    "\n",
    "where\n",
    "- $p = (p_1, p_2, \\dots p_n)$\n",
    "- $q = (q_1, q_2, \\dots, q_n)$\n",
    "\n",
    "#### Task:\n",
    "Find the distance between these points:\n",
    "- x = (0,0)\n",
    "- y = (4,4)\n",
    "\n",
    "Distance = 5.65685...\n",
    "\n",
    "### KNN with Jaccard Similarity Index\n",
    "Compares members of two individual sets to determin which members are `shared` and which are `distinct`.\n",
    "The index measures the similarity between the two sets.\n",
    "\n",
    "$$\n",
    "J(A, B) = \\frac{|A \\cap B|}{|A \\cup B|}\n",
    "$$\n",
    "\n",
    "### KNN with Weighted Jaccard Simlarity Index\n",
    "The traditional Jaccard works well when doing \n",
    "`one-to-one` comparisons between a category.\n",
    "\n",
    "One solution is the `weighted` version.\n",
    "- build a ditionary for `each genre` of the movies in our preferred list\n"
   ]
  },
  {
   "cell_type": "code",
   "execution_count": null,
   "metadata": {},
   "outputs": [],
   "source": [
    "# see\n",
    "def weighted_jaccard_weighted():\n"
   ]
  },
  {
   "cell_type": "markdown",
   "metadata": {},
   "source": [
    "### KNN with Levenshtein Distance\n",
    "an initial sequence to a target sequence.\n",
    "\n",
    "- It is used to determine the difference between two sequences (strings)\n",
    "- It is the distance between two words (minimum number of digits edits)\n",
    "  - insertions, deletions, or substitutions\n",
    "\n",
    "$$\n",
    "D(i, j) = \n",
    "\\begin{cases}\n",
    "j & \\text{if } i = 0 \\\\\n",
    "i & \\text{if } j = 0 \\\\\n",
    "D(i-1, j-1) & \\text{if } s[i] = t[j] \\\\\n",
    "1 + \\min \\{D(i-1, j), D(i, j-1), D(i-1, j-1)\\} & \\text{if } s[i] \\neq t[j]\n",
    "\\end{cases}\n",
    "$$"
   ]
  },
  {
   "cell_type": "markdown",
   "metadata": {},
   "source": [
    "#### For example:\n",
    "\n",
    "Consider these strings:\n",
    "\n",
    "- s = 'kitten'\n",
    "- t = 'sitting'\n",
    "\n",
    "Find the `Levenshtein` Distance\n",
    "1. Substitute `k`with `s` in `kitten` -> `sitten`(1 substitution)\n",
    "2. Substitute `e` with `i` in `sitten` -> `sittin` (1 substitution)\n",
    "3. Insert `g` at the end of `sittin` -> `sitting` (1 insertion)\n",
    "\n",
    "Result is 3 edits, so the distance is $ = 3$"
   ]
  },
  {
   "cell_type": "code",
   "execution_count": null,
   "metadata": {},
   "outputs": [],
   "source": [
    "# see\n",
    "def knn_levenshtein_title():\n",
    "    pass"
   ]
  }
 ],
 "metadata": {
  "language_info": {
   "name": "python"
  }
 },
 "nbformat": 4,
 "nbformat_minor": 2
}
