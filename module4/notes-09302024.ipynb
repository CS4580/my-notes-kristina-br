{
 "cells": [
  {
   "cell_type": "markdown",
   "metadata": {},
   "source": [
    "### I missed some stuff\n",
    "\n",
    "## Iterables\n",
    "Include comrehensions, iterable objects, and iterators. We can briefly discuss the lazy evaluation model with generators.\n",
    "\n",
    "### List Comprehensions\n",
    "The shorthand of commprehensions will make your code more readable, expressive,, and effectives.\n",
    "\n",
    "General Form: `[expr(item) for item in iterable]`\n",
    "\n"
   ]
  },
  {
   "cell_type": "code",
   "execution_count": null,
   "metadata": {},
   "outputs": [],
   "source": [
    "# a big string\n",
    "words = \"Today I am very happy to learn about comprehensions\".split()\n",
    "words"
   ]
  },
  {
   "cell_type": "code",
   "execution_count": null,
   "metadata": {},
   "outputs": [],
   "source": [
    "# create a new list\n",
    "\n",
    "lengths.append(len(word))\n",
    "\n",
    "print(words)\n",
    "print(lengths)"
   ]
  },
  {
   "cell_type": "code",
   "execution_count": null,
   "metadata": {},
   "outputs": [],
   "source": [
    "# use a list comprehension instead\n",
    "lengths = [len(word) for word in words]\n",
    "print(lengths)"
   ]
  },
  {
   "cell_type": "code",
   "execution_count": 3,
   "metadata": {},
   "outputs": [
    {
     "name": "stdout",
     "output_type": "stream",
     "text": [
      "20\n"
     ]
    }
   ],
   "source": [
    "# task: using a list comprehension, calculate the length (number of digits) of the\n",
    "# first 20 factorial numbers\n",
    "from math import factorial as fact\n",
    "\n",
    "facto = len([fact(n) for n in range(1,21)])\n",
    "print(facto)"
   ]
  },
  {
   "cell_type": "markdown",
   "metadata": {},
   "source": [
    "# Dictionary Comprehensions\n",
    "\n",
    "General Form\n",
    "\n",
    "`{key_expr:value for item in iterable}`"
   ]
  },
  {
   "cell_type": "code",
   "execution_count": null,
   "metadata": {},
   "outputs": [],
   "source": []
  },
  {
   "cell_type": "markdown",
   "metadata": {},
   "source": [
    "### Filtering Predicates\n",
    "You may use `optional` filtering predicate.\n",
    "\n",
    "General Form:\n",
    "```\n",
    "[expr(item) for item in iterable if predicate(item)]\n",
    "```\n"
   ]
  },
  {
   "cell_type": "code",
   "execution_count": 4,
   "metadata": {},
   "outputs": [
    {
     "name": "stdout",
     "output_type": "stream",
     "text": [
      "Prime number is the first 100 digits [2, 3, 5, 7, 11, 13, 17, 19, 23, 29, 31, 37, 41, 43, 47, 53, 59, 61, 67, 71, 73, 79, 83, 89, 97]\n"
     ]
    }
   ],
   "source": [
    "def is_prime(number):\n",
    "    pass\n",
    "\n",
    "# Task create a list of prime numbers\n",
    "\n",
    "from math import sqrt\n",
    "\n",
    "def is_prime(number):\n",
    "    if number < 2:\n",
    "        return False\n",
    "    for i in range(2, int(sqrt(number))+1):\n",
    "        if number % i == 0:\n",
    "            return False\n",
    "    return True\n",
    "\n",
    "# Task: create a list of prime numbers in the first 100 numbers.\n",
    "primes = [x for x in range(101) if is_prime(x)]\n",
    "print(f'Prime number is the first 100 digits {primes}')\n",
    "\n",
    "# MOMENT OF ZEN: Simple is better than complex. :)\n",
    "# Code is written once, but read over and over."
   ]
  },
  {
   "cell_type": "markdown",
   "metadata": {},
   "source": [
    "## Groupwise Analysis"
   ]
  },
  {
   "cell_type": "code",
   "execution_count": null,
   "metadata": {},
   "outputs": [],
   "source": []
  }
 ],
 "metadata": {
  "kernelspec": {
   "display_name": "base",
   "language": "python",
   "name": "python3"
  },
  "language_info": {
   "codemirror_mode": {
    "name": "ipython",
    "version": 3
   },
   "file_extension": ".py",
   "mimetype": "text/x-python",
   "name": "python",
   "nbconvert_exporter": "python",
   "pygments_lexer": "ipython3",
   "version": "3.12.4"
  }
 },
 "nbformat": 4,
 "nbformat_minor": 2
}
